{
  "nbformat": 4,
  "nbformat_minor": 0,
  "metadata": {
    "colab": {
      "provenance": []
    },
    "kernelspec": {
      "name": "python3",
      "display_name": "Python 3"
    },
    "language_info": {
      "name": "python"
    }
  },
  "cells": [
    {
      "cell_type": "markdown",
      "source": [
        "#import necessary Libraries"
      ],
      "metadata": {
        "id": "cJnkiXEG4FGv"
      }
    },
    {
      "cell_type": "code",
      "source": [
        "import torch\n",
        "import torch.nn as nn #neural network module\n",
        "import numpy as np\n",
        "from sklearn import datasets\n",
        "import matplotlib.pyplot as plt"
      ],
      "metadata": {
        "id": "NWGB4qS_4FWo"
      },
      "execution_count": 2,
      "outputs": []
    },
    {
      "cell_type": "markdown",
      "source": [
        "#prepare data\n",
        "\n",
        "here, I am making a datasets where I have taken 100 samples value as my input which denotes X_numpy. And it will create a 2D array with element in a single coloum! for your better understanding just print(X_numpy)\n",
        "\n",
        "Y_numpy is just output and that's why n_features=1. It will create a 1D array with 100 coloumn and 1 row. for your better understanding just print (Y_numpy)"
      ],
      "metadata": {
        "id": "n3vY2vA04cqd"
      }
    },
    {
      "cell_type": "code",
      "source": [
        "X_numpy,Y_numpy = datasets.make_regression(n_samples=100,n_features=1, noise=20, random_state = 1)\n",
        "#print( X_numpy)\n",
        "\n",
        "#CONVERT NUMPY TO TORCH\n",
        "X= torch.from_numpy(X_numpy.astype(np.float32)) \n",
        "#print(X)\n",
        "Y= torch.from_numpy(Y_numpy.astype(np.float32))\n",
        "#print(Y.shape) #torch.Size([100])\n",
        "\n",
        "#reshape \n",
        "Y= Y.view(Y.shape[0],1)\n",
        "#print(Y)\n",
        "n_samples,n_features = X.shape #it will take X.shape's first value as n_samples and 2nd element as n_features \n",
        "#print(n_samples)\n",
        "#print(n_features)"
      ],
      "metadata": {
        "id": "uCTrPI0d4bKR"
      },
      "execution_count": 29,
      "outputs": []
    },
    {
      "cell_type": "markdown",
      "source": [
        "# model creation and declare"
      ],
      "metadata": {
        "id": "NPI_Q5P9_fKe"
      }
    },
    {
      "cell_type": "code",
      "source": [
        "input_size = n_features\n",
        "output_size = 1\n",
        "model= nn.Linear(input_size,output_size) "
      ],
      "metadata": {
        "id": "7faLSGk6_hNb"
      },
      "execution_count": 30,
      "outputs": []
    },
    {
      "cell_type": "markdown",
      "source": [
        "#loss and optimizer"
      ],
      "metadata": {
        "id": "3YwMFq0jBgca"
      }
    },
    {
      "cell_type": "code",
      "source": [
        "learning_rate= 0.001\n",
        "criterion = nn.MSELoss()\n",
        "optimizer = torch.optim.SGD(model.parameters(),lr=learning_rate) #optimizer will optimize model parameters and learning rate for next update"
      ],
      "metadata": {
        "id": "vvCZ7TfrBltW"
      },
      "execution_count": 31,
      "outputs": []
    },
    {
      "cell_type": "markdown",
      "source": [
        "#training loop"
      ],
      "metadata": {
        "id": "G5UbRVArF_wP"
      }
    },
    {
      "cell_type": "code",
      "source": [
        "num_epochs=100\n",
        "for epoch in range(num_epochs):\n",
        "  #forward pass and loss\n",
        "  y_predicted=model(X)\n",
        "  loss=criterion(y_predicted,Y) #actual output = Y\n",
        "\n",
        "  #backward pass .backward() will back propagate and calculate the gradients\n",
        "  loss.backward()\n",
        "\n",
        "  #update\n",
        "  optimizer.step()\n",
        "  optimizer.zero_grad()\n",
        "\n",
        "\n",
        "if (epoch+1)%10 == 0:\n",
        "  print(f\"epoch: {epoch+1}, loss={loss.item():.4f}\")"
      ],
      "metadata": {
        "colab": {
          "base_uri": "https://localhost:8080/"
        },
        "id": "JhFhEqxvGB7Q",
        "outputId": "49af8880-91ab-4e59-a62a-4b5441b544ff"
      },
      "execution_count": 33,
      "outputs": [
        {
          "output_type": "stream",
          "name": "stdout",
          "text": [
            "epoch: 100, loss=3156.4800\n"
          ]
        }
      ]
    },
    {
      "cell_type": "code",
      "source": [
        "#plot\n",
        "predicted= model(X).detach().numpy() #//it will create a new tensor where our gradient calculation attribute is false\n",
        "\n",
        "plt.plot(X_numpy, Y_numpy,'ro') \n",
        "plt.plot(X_numpy,predicted,'b')\n",
        "plt.show()\n",
        "\n"
      ],
      "metadata": {
        "colab": {
          "base_uri": "https://localhost:8080/",
          "height": 265
        },
        "id": "X1DWMV1fIdk8",
        "outputId": "d1f45c03-5297-4fa1-bd72-971c636c7ce8"
      },
      "execution_count": 35,
      "outputs": [
        {
          "output_type": "display_data",
          "data": {
            "text/plain": [
              "<Figure size 432x288 with 1 Axes>"
            ],
            "image/png": "[encoded data removed]"
          },
          "metadata": {
            "needs_background": "light"
          }
        }
      ]
    }
  ]
}